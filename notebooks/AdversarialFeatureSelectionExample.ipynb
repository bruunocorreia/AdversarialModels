{
 "cells": [
  {
   "cell_type": "code",
   "execution_count": 18,
   "id": "8e4cab0d-c8e5-44c3-be55-5055e64fd63d",
   "metadata": {},
   "outputs": [],
   "source": [
    "%%capture\n",
    "import pandas as pd\n",
    "import numpy as np\n",
    "from sklearn.model_selection import train_test_split,cross_val_score\n",
    "from sklearn.ensemble import RandomForestClassifier\n",
    "from sklearn.metrics import roc_auc_score\n",
    "import warnings\n",
    "warnings.filterwarnings(\"ignore\")\n",
    "import pyspark.sql.functions as F\n",
    "import pyspark"
   ]
  },
  {
   "cell_type": "markdown",
   "id": "ef70bacd-933a-44a6-a320-1c6fd26c0f55",
   "metadata": {},
   "source": [
    "### Read dataframe"
   ]
  },
  {
   "cell_type": "code",
   "execution_count": 2,
   "id": "782c17f2-ac1e-416b-894d-074c5e921d9c",
   "metadata": {},
   "outputs": [],
   "source": [
    "df_train = pd.read_csv(\"data/train.csv.zip\")\n",
    "df_test = pd.read_csv(\"data/test.csv.zip\")\n",
    "\n",
    "id_columns = ['ID']\n",
    "target_column = ['TARGET']\n",
    "\n",
    "\n",
    "x_train = df_train.drop(columns=id_columns + target_column).fillna(0)\n",
    "x_test = df_test[x_train.columns]"
   ]
  },
  {
   "cell_type": "markdown",
   "id": "977fe1fc-410d-4d77-b006-45f9234943c2",
   "metadata": {},
   "source": [
    "### Shuffling some distributions to understand if it will be detected by the data drift detector"
   ]
  },
  {
   "cell_type": "code",
   "execution_count": 14,
   "id": "8328d2b3-5017-44a7-b374-23ad871dd20b",
   "metadata": {},
   "outputs": [],
   "source": [
    "x_test['var15']  = x_test['var15'] * 2\n",
    "x_test['var3']  = x_test['var3'] * 2\n",
    "x_train['var38']  = x_train['var38']  * 2\n",
    "x_train['var36']  = x_train['var36']* 2"
   ]
  },
  {
   "cell_type": "markdown",
   "id": "7f81d7c3-35f3-4313-a85d-bad7c099ea6d",
   "metadata": {},
   "source": [
    "### Define target adversarial"
   ]
  },
  {
   "cell_type": "code",
   "execution_count": 15,
   "id": "bd584f43-d19e-45d0-9be1-08fe5fc54262",
   "metadata": {},
   "outputs": [],
   "source": [
    "### Definindo master table\n",
    "x_train['target'] = 1\n",
    "x_test['target'] = 0\n",
    "\n",
    "master = pd.concat([x_train,x_test])\n",
    "\n",
    "x = master.drop(columns = 'target')\n",
    "y = master[['target']]"
   ]
  },
  {
   "cell_type": "markdown",
   "id": "0279d406-c634-47ee-9347-7fceed3b1aa0",
   "metadata": {},
   "source": [
    "### Import lib"
   ]
  },
  {
   "cell_type": "code",
   "execution_count": 16,
   "id": "36da93fa-d33a-4506-a920-0b313f50b7fd",
   "metadata": {},
   "outputs": [],
   "source": [
    "import AdversarialFeatureSelection as Ad"
   ]
  },
  {
   "cell_type": "markdown",
   "id": "71111485-6aee-407d-97d5-077c5539a9dd",
   "metadata": {},
   "source": [
    "### Apply framework"
   ]
  },
  {
   "cell_type": "code",
   "execution_count": 17,
   "id": "670d8d74-8326-4474-97d7-4049b2c2d362",
   "metadata": {},
   "outputs": [
    {
     "name": "stdout",
     "output_type": "stream",
     "text": [
      "Initial number of features:  369\n",
      "First AUC on test: 0.9999\n",
      "Drift detected\n",
      "Deleting features:\n",
      "var3\n",
      "---------------------\n",
      "AUC on test: 0.9950\n",
      "Drift detected\n",
      "Deleting features:\n",
      "var3\n",
      "var15\n",
      "---------------------\n",
      "AUC on test: 0.9680\n",
      "Drift detected\n",
      "Deleting features:\n",
      "var3\n",
      "var15\n",
      "var38\n",
      "---------------------\n",
      "AUC on test: 0.9380\n",
      "Drift detected\n",
      "Deleting features:\n",
      "var3\n",
      "var15\n",
      "var38\n",
      "var36\n",
      "---------------------\n",
      "AUC on test: 0.4969\n",
      "Features to delete:\n",
      "var3\n",
      "var15\n",
      "var38\n",
      "var36\n",
      "Optimal number of features: 365\n",
      "['var3', 'var15', 'var38', 'var36']\n",
      "-----------------\n",
      "Number of features before 370\n",
      "Number of features after 366\n"
     ]
    }
   ],
   "source": [
    "# Set the specifications\n",
    "adversarial_model = Ad.AdversarialModel(auc_threshold=0.5,\n",
    "                                     num_feature_delete_step=1)\n",
    "\n",
    "# Train the model that will save the variables to be deleted\n",
    "adversarial_model.fit(x, y)\n",
    "\n",
    "# Apply to the dataframe\n",
    "transformed_data = adversarial_model.transform(x_train)\n",
    "\n",
    "print('-----------------')\n",
    "print('Number of features before', len(x_train.columns))\n",
    "print('Number of features after', len(transformed_data.columns))\n"
   ]
  },
  {
   "cell_type": "markdown",
   "id": "010b743b-0357-48cb-a24e-beeb2b69c0e0",
   "metadata": {},
   "source": [
    "### Done\n",
    "The approach was able to identify the four variables whose distributions were shuffled. This type of approach is very useful for avoiding taking features with high volatility into the training part, reducing the chance of having a model with high variance/overfitting."
   ]
  }
 ],
 "metadata": {
  "kernelspec": {
   "display_name": "Python 3 (ipykernel)",
   "language": "python",
   "name": "python3"
  },
  "language_info": {
   "codemirror_mode": {
    "name": "ipython",
    "version": 3
   },
   "file_extension": ".py",
   "mimetype": "text/x-python",
   "name": "python",
   "nbconvert_exporter": "python",
   "pygments_lexer": "ipython3",
   "version": "3.9.13"
  }
 },
 "nbformat": 4,
 "nbformat_minor": 5
}
